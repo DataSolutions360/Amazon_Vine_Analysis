{
  "nbformat": 4,
  "nbformat_minor": 0,
  "metadata": {
    "colab": {
      "name": "Vine_Review_Analysis.ipynb",
      "provenance": [],
      "collapsed_sections": [],
      "authorship_tag": "ABX9TyNvy+V+12LbXEiUNVUFurqE",
      "include_colab_link": true
    },
    "kernelspec": {
      "name": "python3",
      "display_name": "Python 3"
    },
    "language_info": {
      "name": "python"
    }
  },
  "cells": [
    {
      "cell_type": "markdown",
      "metadata": {
        "id": "view-in-github",
        "colab_type": "text"
      },
      "source": [
        "<a href=\"https://colab.research.google.com/github/DataSolutions360/Amazon_Vine_Analysis/blob/main/Vine_Review_Analysis.ipynb\" target=\"_parent\"><img src=\"https://colab.research.google.com/assets/colab-badge.svg\" alt=\"Open In Colab\"/></a>"
      ]
    },
    {
      "cell_type": "code",
      "execution_count": 1,
      "metadata": {
        "colab": {
          "base_uri": "https://localhost:8080/"
        },
        "id": "gwawEwEPa4Q4",
        "outputId": "bcf073b0-edcc-4b26-b8d8-af2affeab09a"
      },
      "outputs": [
        {
          "output_type": "stream",
          "name": "stdout",
          "text": [
            "\r0% [Working]\r            \rGet:1 https://cloud.r-project.org/bin/linux/ubuntu bionic-cran40/ InRelease [3,626 B]\n",
            "Hit:2 https://developer.download.nvidia.com/compute/cuda/repos/ubuntu1804/x86_64  InRelease\n",
            "Get:3 http://security.ubuntu.com/ubuntu bionic-security InRelease [88.7 kB]\n",
            "Hit:4 http://archive.ubuntu.com/ubuntu bionic InRelease\n",
            "Get:5 http://ppa.launchpad.net/c2d4u.team/c2d4u4.0+/ubuntu bionic InRelease [15.9 kB]\n",
            "Get:6 http://archive.ubuntu.com/ubuntu bionic-updates InRelease [88.7 kB]\n",
            "Ign:7 https://developer.download.nvidia.com/compute/machine-learning/repos/ubuntu1804/x86_64  InRelease\n",
            "Hit:8 https://developer.download.nvidia.com/compute/machine-learning/repos/ubuntu1804/x86_64  Release\n",
            "Hit:9 http://ppa.launchpad.net/cran/libgit2/ubuntu bionic InRelease\n",
            "Get:10 http://archive.ubuntu.com/ubuntu bionic-backports InRelease [74.6 kB]\n",
            "Hit:11 http://ppa.launchpad.net/deadsnakes/ppa/ubuntu bionic InRelease\n",
            "Hit:12 http://ppa.launchpad.net/graphics-drivers/ppa/ubuntu bionic InRelease\n",
            "Get:13 http://ppa.launchpad.net/c2d4u.team/c2d4u4.0+/ubuntu bionic/main amd64 Packages [1,063 kB]\n",
            "Get:15 http://security.ubuntu.com/ubuntu bionic-security/main amd64 Packages [2,905 kB]\n",
            "Get:16 http://security.ubuntu.com/ubuntu bionic-security/universe amd64 Packages [1,527 kB]\n",
            "Get:17 http://archive.ubuntu.com/ubuntu bionic-updates/universe amd64 Packages [2,306 kB]\n",
            "Get:18 http://archive.ubuntu.com/ubuntu bionic-updates/main amd64 Packages [3,336 kB]\n",
            "Fetched 11.4 MB in 5s (2,189 kB/s)\n",
            "Reading package lists... Done\n"
          ]
        }
      ],
      "source": [
        "import os\n",
        "# Find the latest version of spark 3.0 from http://www.apache.org/dist/spark/ and enter as the spark version\n",
        "# For example:\n",
        "# spark_version = 'spark-3.0.3'\n",
        "spark_version = 'spark-3.3.0'\n",
        "os.environ['SPARK_VERSION']=spark_version\n",
        "\n",
        "# Install Spark and Java\n",
        "!apt-get update\n",
        "!apt-get install openjdk-11-jdk-headless -qq > /dev/null\n",
        "!wget -q http://www.apache.org/dist/spark/$SPARK_VERSION/$SPARK_VERSION-bin-hadoop3.tgz\n",
        "!tar xf $SPARK_VERSION-bin-hadoop3.tgz\n",
        "!pip install -q findspark\n",
        "\n",
        "# Set Environment Variables\n",
        "import os\n",
        "os.environ[\"JAVA_HOME\"] = \"/usr/lib/jvm/java-11-openjdk-amd64\"\n",
        "os.environ[\"SPARK_HOME\"] = f\"/content/{spark_version}-bin-hadoop3\"\n",
        "\n",
        "# Start a SparkSession\n",
        "import findspark\n",
        "findspark.init()"
      ]
    },
    {
      "cell_type": "code",
      "source": [
        "# Download the Postgres driver that will allow Spark to interact with Postgres.\n",
        "!wget https://jdbc.postgresql.org/download/postgresql-42.2.16.jar"
      ],
      "metadata": {
        "colab": {
          "base_uri": "https://localhost:8080/"
        },
        "id": "IUgUyXQEnrVW",
        "outputId": "8e38e7a3-954d-4a05-c9b3-c44035389ba0"
      },
      "execution_count": 2,
      "outputs": [
        {
          "output_type": "stream",
          "name": "stdout",
          "text": [
            "--2022-07-30 01:05:43--  https://jdbc.postgresql.org/download/postgresql-42.2.16.jar\n",
            "Resolving jdbc.postgresql.org (jdbc.postgresql.org)... 72.32.157.228, 2001:4800:3e1:1::228\n",
            "Connecting to jdbc.postgresql.org (jdbc.postgresql.org)|72.32.157.228|:443... connected.\n",
            "HTTP request sent, awaiting response... 200 OK\n",
            "Length: 1002883 (979K) [application/java-archive]\n",
            "Saving to: ‘postgresql-42.2.16.jar’\n",
            "\n",
            "postgresql-42.2.16. 100%[===================>] 979.38K  1.72MB/s    in 0.6s    \n",
            "\n",
            "2022-07-30 01:05:44 (1.72 MB/s) - ‘postgresql-42.2.16.jar’ saved [1002883/1002883]\n",
            "\n"
          ]
        }
      ]
    },
    {
      "cell_type": "code",
      "source": [
        "from pyspark.sql import SparkSession\n",
        "spark = SparkSession.builder.appName(\"M16-Amazon-Challenge\").config(\"spark.driver.extraClassPath\",\"/content/postgresql-42.2.16.jar\").getOrCreate()"
      ],
      "metadata": {
        "id": "qW889gmlnvlD"
      },
      "execution_count": 3,
      "outputs": []
    },
    {
      "cell_type": "code",
      "source": [
        "from pyspark import SparkFiles\n",
        "url = \"https://s3.amazonaws.com/amazon-reviews-pds/tsv/amazon_reviews_us_Watches_v1_00.tsv.gz\"\n",
        "spark.sparkContext.addFile(url)\n",
        "df = spark.read.option(\"encoding\", \"UTF-8\").csv(SparkFiles.get(\"amazon_reviews_us_Watches_v1_00.tsv.gz\"), sep=\"\\t\", header=True, inferSchema=True)\n",
        "df.show()"
      ],
      "metadata": {
        "colab": {
          "base_uri": "https://localhost:8080/"
        },
        "id": "QRCuB5ZJnx7T",
        "outputId": "10b94681-acd4-48e0-c623-790013c53e24"
      },
      "execution_count": 4,
      "outputs": [
        {
          "output_type": "stream",
          "name": "stdout",
          "text": [
            "+-----------+-----------+--------------+----------+--------------+--------------------+----------------+-----------+-------------+-----------+----+-----------------+--------------------+--------------------+-------------------+\n",
            "|marketplace|customer_id|     review_id|product_id|product_parent|       product_title|product_category|star_rating|helpful_votes|total_votes|vine|verified_purchase|     review_headline|         review_body|        review_date|\n",
            "+-----------+-----------+--------------+----------+--------------+--------------------+----------------+-----------+-------------+-----------+----+-----------------+--------------------+--------------------+-------------------+\n",
            "|         US|    3653882|R3O9SGZBVQBV76|B00FALQ1ZC|     937001370|Invicta Women's 1...|         Watches|          5|            0|          0|   N|                Y|          Five Stars|Absolutely love t...|2015-08-31 00:00:00|\n",
            "|         US|   14661224| RKH8BNC3L5DLF|B00D3RGO20|     484010722|Kenneth Cole New ...|         Watches|          5|            0|          0|   N|                Y|I love thiswatch ...|I love this watch...|2015-08-31 00:00:00|\n",
            "|         US|   27324930|R2HLE8WKZSU3NL|B00DKYC7TK|     361166390|Ritche 22mm Black...|         Watches|          2|            1|          1|   N|                Y|           Two Stars|           Scratches|2015-08-31 00:00:00|\n",
            "|         US|    7211452|R31U3UH5AZ42LL|B000EQS1JW|     958035625|Citizen Men's BM8...|         Watches|          5|            0|          0|   N|                Y|          Five Stars|It works well on ...|2015-08-31 00:00:00|\n",
            "|         US|   12733322|R2SV659OUJ945Y|B00A6GFD7S|     765328221|Orient ER27009B M...|         Watches|          4|            0|          0|   N|                Y|Beautiful face, b...|Beautiful watch f...|2015-08-31 00:00:00|\n",
            "|         US|    6576411| RA51CP8TR5A2L|B00EYSOSE8|     230493695|Casio Men's GW-94...|         Watches|          5|            0|          0|   N|                Y|       No complaints|i love this watch...|2015-08-31 00:00:00|\n",
            "|         US|   11811565| RB2Q7DLDN6TH6|B00WM0QA3M|     549298279|Fossil Women's ES...|         Watches|          5|            1|          1|   N|                Y|          Five Stars|for my wife and s...|2015-08-31 00:00:00|\n",
            "|         US|   49401598|R2RHFJV0UYBK3Y|B00A4EYBR0|     844009113|INFANTRY Mens Nig...|         Watches|          1|            1|          5|   N|                N|I was about to bu...|I was about to bu...|2015-08-31 00:00:00|\n",
            "|         US|   45925069|R2Z6JOQ94LFHEP|B00MAMPGGE|     263720892|G-Shock Men's Gre...|         Watches|          5|            1|          2|   N|                Y|      Perfect watch!|Watch is perfect....|2015-08-31 00:00:00|\n",
            "|         US|   44751341| RX27XIIWY5JPB|B004LBPB7Q|     124278407|Heiden Quad Watch...|         Watches|          4|            0|          0|   N|                Y|Great quality and...|Great quality and...|2015-08-31 00:00:00|\n",
            "|         US|    9962330|R15C7QEZT0LGZN|B00KGTVGKS|      28017857|Fossil Women's ES...|         Watches|          4|            2|          2|   N|                Y|           Satisfied|The watch was pre...|2015-08-31 00:00:00|\n",
            "|         US|   16097204|R361XSS37V0NCZ|B0039UT5OU|     685450910|Casio General Men...|         Watches|          1|            0|          0|   N|                N|I do not think th...|I bought this wat...|2015-08-31 00:00:00|\n",
            "|         US|   51330346| ROTNLALUAJAUB|B00MPF0XJQ|     767769082|2Tone Gold Silver...|         Watches|          3|            0|          0|   N|                Y|         Three Stars|It is a cheap wat...|2015-08-31 00:00:00|\n",
            "|         US|    4201739|R2DYX7QU6BGOHR|B003P1OHHS|     648595227|Bulova Men's 98B1...|         Watches|          5|            0|          0|   N|                Y|          Five Stars|Heavier than i th...|2015-08-31 00:00:00|\n",
            "|         US|   26339765| RWASY7FKI7QOT|B00R70YEOE|     457338020|Casio - G-Shock -...|         Watches|          5|            2|          3|   N|                Y|  Worth it - love it|Had it for severa...|2015-08-31 00:00:00|\n",
            "|         US|    2692576|R2KKYZIN3CCL21|B000FVE3BG|     824370661|Invicta Men's 332...|         Watches|          5|            0|          0|   N|                Y|This is when diff...|This one is diffe...|2015-08-31 00:00:00|\n",
            "|         US|   44713366|R22H4FGVD5O52O|B008X6JB12|     814431355|Seiko Women's SUT...|         Watches|          4|            1|          1|   N|                Y|Thewatch is attra...|The watch is attr...|2015-08-31 00:00:00|\n",
            "|         US|   32778769|R11UACZERCM4ZY|B0040UOFPW|     187700878|Anne Klein Women'...|         Watches|          5|            0|          0|   N|                Y|          Five Stars|      said my wife..|2015-08-31 00:00:00|\n",
            "|         US|   27258523|R1AT8NQ38UQOL6|B00UR2R5UY|     594315262|Guess U13630G1 Me...|         Watches|          5|            0|          0|   N|                Y|          Five Stars|Nice watch, on ti...|2015-08-31 00:00:00|\n",
            "|         US|   42646538|R2NCZRQGIF1Q75|B00HFF57L0|     520810507|Nixon Men's Geo V...|         Watches|          4|            0|          0|   N|                Y|        Very stylish|Looks great and l...|2015-08-31 00:00:00|\n",
            "+-----------+-----------+--------------+----------+--------------+--------------------+----------------+-----------+-------------+-----------+----+-----------------+--------------------+--------------------+-------------------+\n",
            "only showing top 20 rows\n",
            "\n"
          ]
        }
      ]
    },
    {
      "cell_type": "code",
      "source": [
        "# Filter dataframe by where total_votes is greater than or equal to 20\n",
        "total_votes_df = df.filter(\"total_votes>=20\")\n",
        "total_votes_df.show()"
      ],
      "metadata": {
        "colab": {
          "base_uri": "https://localhost:8080/"
        },
        "id": "uWPCkYbqnyC9",
        "outputId": "363de3ee-870e-4317-bfe5-85508f3ac490"
      },
      "execution_count": 5,
      "outputs": [
        {
          "output_type": "stream",
          "name": "stdout",
          "text": [
            "+-----------+-----------+--------------+----------+--------------+--------------------+----------------+-----------+-------------+-----------+----+-----------------+--------------------+--------------------+-------------------+\n",
            "|marketplace|customer_id|     review_id|product_id|product_parent|       product_title|product_category|star_rating|helpful_votes|total_votes|vine|verified_purchase|     review_headline|         review_body|        review_date|\n",
            "+-----------+-----------+--------------+----------+--------------+--------------------+----------------+-----------+-------------+-----------+----+-----------------+--------------------+--------------------+-------------------+\n",
            "|         US|   17728960|R14W2VCHHK5V7W|B00ZI3R5VG|     213303319|Stuhrling Origina...|         Watches|          5|           19|         20|   N|                Y|this is a good al...|As a former Rolex...|2015-08-31 00:00:00|\n",
            "|         US|   20240757|R1S3T57O3OYT5S|B003DZ7VOW|     336197576|G-Shock GA100A-7A...|         Watches|          5|           19|         20|   N|                Y|          Five Stars|         Great watch|2015-08-31 00:00:00|\n",
            "|         US|   15806601|R1BTWIBLYYVOV7|B00I1LM5SK|     878438426|Seiko Men's SSC22...|         Watches|          5|           30|         30|   N|                Y|Extremely Satisfied!|A beautiful timep...|2015-08-31 00:00:00|\n",
            "|         US|   14870011| R6F9VY91ADPLA|B002ZLE41I|     118278818|Grand Seiko Wrist...|         Watches|          1|            8|         30|   N|                N|            NOT a GS|NOT a Grand Seiko...|2015-08-31 00:00:00|\n",
            "|         US|   32751852|R3PXNV89DFIXKV|B00OAY5ZPC|     814269665|G-Shock Men's Mil...|         Watches|          5|           35|         37|   N|                Y|Sweet watch perfe...|Sweet watch perfe...|2015-08-30 00:00:00|\n",
            "|         US|   36877359|R2ZF9NYVT3J7D6|B000JQJS6M|     926299553|Invicta Men's 892...|         Watches|          5|           19|         22|   N|                Y|Wow what a great ...|I bought this wat...|2015-08-30 00:00:00|\n",
            "|         US|   52450678|R20NYA5V0UF9NE|B00EX1GLXM|     186312431|Daniel Wellington...|         Watches|          5|           27|         28|   N|                Y|  Best Women's Watch|I love this watch...|2015-08-30 00:00:00|\n",
            "|         US|   20624774|R2X8FZRUOS8R8C|B00WUY9RGM|     609917507|Bulova Accutron I...|         Watches|          4|           25|         26|   N|                Y|A very nice reiss...|A very nice reiss...|2015-08-29 00:00:00|\n",
            "|         US|     225889|R2D8IMBVX3XCLF|B00U0XC1T0|      31905742|Akribos XXIV Men'...|         Watches|          1|           14|         20|   N|                Y|I bought in 30 ju...|I bought in 30 ju...|2015-08-29 00:00:00|\n",
            "|         US|   36602051|R25UD9TA63L3Q8|B00YTYH16Y|     251372732|Timex Expedition ...|         Watches|          5|           25|         27|   N|                Y|Great watch for s...|I work in an a me...|2015-08-28 00:00:00|\n",
            "|         US|   47047549|R2RB1HML8N712P|B00J5QR062|     220979928|Casio Men's GA-11...|         Watches|          5|           26|         28|   N|                Y| My First G-SHOCK...|I'll be honest I ...|2015-08-28 00:00:00|\n",
            "|         US|    2546433| ROXA8XP5EI2KK|B009XGOP8A|     973820677|Michael Kors Wome...|         Watches|          5|           48|         49|   N|                N|I love it. I woul...|This thing is gor...|2015-08-28 00:00:00|\n",
            "|         US|   24173990|R149IHTGGSRGX9|B00BKQTA4A|     128852263|Daniel Wellington...|         Watches|          5|           19|         20|   N|                Y|          Five Stars|Great watch! My n...|2015-08-28 00:00:00|\n",
            "|         US|   53096363|R1B7M0OP3UNP6O|B00V0G9OGE|     297682929|Armitron Sport Wo...|         Watches|          5|           49|         52|   Y|                N|Lots of features ...|My wife has been ...|2015-08-27 00:00:00|\n",
            "|         US|   27863178|R2N92CUM7WBA1A|B013XHV4GU|     119578945|G-Shock Men's G-S...|         Watches|          5|           27|         28|   N|                Y|Big, but proporti...|This is a great c...|2015-08-27 00:00:00|\n",
            "|         US|   41750372|R2TAFZNG4KHFQB|B00YTY8MQW|     967993443|Timex Men's Weeke...|         Watches|          4|           24|         24|   N|                Y|Quiet Timex Weeke...|I recently picked...|2015-08-27 00:00:00|\n",
            "|         US|    2132145| RNRFACS48ZE4A|B000B55AEK|     525035983|Timex Women's Ind...|         Watches|          5|           21|         21|   N|                Y|I'm a busy colleg...|I'm a busy colleg...|2015-08-27 00:00:00|\n",
            "|         US|    4160429|R2PO5QTLXJ9LHG|B00TU78EXE|     508562164|AUDEMARS PIGUET R...|         Watches|          5|           33|         46|   N|                N|Great watch and i...|Great watch. I bo...|2015-08-27 00:00:00|\n",
            "|         US|   49019268|R38KDT041DRMIN|B00NIF9H3U|     998896201|Omega Men's 31130...|         Watches|          5|           19|         24|   N|                Y|Looks good on the...|Gorgeous watch wi...|2015-08-26 00:00:00|\n",
            "|         US|   10220971|R2MNPDWCA42I4G|B00K92JHX0|     826514849|Fanmis Ceramic Be...|         Watches|          1|           17|         20|   N|                N|Parnis is a scam....|I bought this wat...|2015-08-26 00:00:00|\n",
            "+-----------+-----------+--------------+----------+--------------+--------------------+----------------+-----------+-------------+-----------+----+-----------------+--------------------+--------------------+-------------------+\n",
            "only showing top 20 rows\n",
            "\n"
          ]
        }
      ]
    },
    {
      "cell_type": "code",
      "source": [
        "\n",
        "# Create dataframe to retrieve all the rows where the number of helpful_votes divided by total_votes is equal to or greater than 50%\n",
        "helpful_votes_df = total_votes_df.filter((total_votes_df.helpful_votes/total_votes_df.total_votes) >= .5)\n",
        "helpful_votes_df.show()"
      ],
      "metadata": {
        "colab": {
          "base_uri": "https://localhost:8080/"
        },
        "id": "_vhMpDecnyGm",
        "outputId": "e6b2c3b3-a8c1-4044-c50c-7ae211556084"
      },
      "execution_count": 6,
      "outputs": [
        {
          "output_type": "stream",
          "name": "stdout",
          "text": [
            "+-----------+-----------+--------------+----------+--------------+--------------------+----------------+-----------+-------------+-----------+----+-----------------+--------------------+--------------------+-------------------+\n",
            "|marketplace|customer_id|     review_id|product_id|product_parent|       product_title|product_category|star_rating|helpful_votes|total_votes|vine|verified_purchase|     review_headline|         review_body|        review_date|\n",
            "+-----------+-----------+--------------+----------+--------------+--------------------+----------------+-----------+-------------+-----------+----+-----------------+--------------------+--------------------+-------------------+\n",
            "|         US|   17728960|R14W2VCHHK5V7W|B00ZI3R5VG|     213303319|Stuhrling Origina...|         Watches|          5|           19|         20|   N|                Y|this is a good al...|As a former Rolex...|2015-08-31 00:00:00|\n",
            "|         US|   20240757|R1S3T57O3OYT5S|B003DZ7VOW|     336197576|G-Shock GA100A-7A...|         Watches|          5|           19|         20|   N|                Y|          Five Stars|         Great watch|2015-08-31 00:00:00|\n",
            "|         US|   15806601|R1BTWIBLYYVOV7|B00I1LM5SK|     878438426|Seiko Men's SSC22...|         Watches|          5|           30|         30|   N|                Y|Extremely Satisfied!|A beautiful timep...|2015-08-31 00:00:00|\n",
            "|         US|   32751852|R3PXNV89DFIXKV|B00OAY5ZPC|     814269665|G-Shock Men's Mil...|         Watches|          5|           35|         37|   N|                Y|Sweet watch perfe...|Sweet watch perfe...|2015-08-30 00:00:00|\n",
            "|         US|   36877359|R2ZF9NYVT3J7D6|B000JQJS6M|     926299553|Invicta Men's 892...|         Watches|          5|           19|         22|   N|                Y|Wow what a great ...|I bought this wat...|2015-08-30 00:00:00|\n",
            "|         US|   52450678|R20NYA5V0UF9NE|B00EX1GLXM|     186312431|Daniel Wellington...|         Watches|          5|           27|         28|   N|                Y|  Best Women's Watch|I love this watch...|2015-08-30 00:00:00|\n",
            "|         US|   20624774|R2X8FZRUOS8R8C|B00WUY9RGM|     609917507|Bulova Accutron I...|         Watches|          4|           25|         26|   N|                Y|A very nice reiss...|A very nice reiss...|2015-08-29 00:00:00|\n",
            "|         US|     225889|R2D8IMBVX3XCLF|B00U0XC1T0|      31905742|Akribos XXIV Men'...|         Watches|          1|           14|         20|   N|                Y|I bought in 30 ju...|I bought in 30 ju...|2015-08-29 00:00:00|\n",
            "|         US|   36602051|R25UD9TA63L3Q8|B00YTYH16Y|     251372732|Timex Expedition ...|         Watches|          5|           25|         27|   N|                Y|Great watch for s...|I work in an a me...|2015-08-28 00:00:00|\n",
            "|         US|   47047549|R2RB1HML8N712P|B00J5QR062|     220979928|Casio Men's GA-11...|         Watches|          5|           26|         28|   N|                Y| My First G-SHOCK...|I'll be honest I ...|2015-08-28 00:00:00|\n",
            "|         US|    2546433| ROXA8XP5EI2KK|B009XGOP8A|     973820677|Michael Kors Wome...|         Watches|          5|           48|         49|   N|                N|I love it. I woul...|This thing is gor...|2015-08-28 00:00:00|\n",
            "|         US|   24173990|R149IHTGGSRGX9|B00BKQTA4A|     128852263|Daniel Wellington...|         Watches|          5|           19|         20|   N|                Y|          Five Stars|Great watch! My n...|2015-08-28 00:00:00|\n",
            "|         US|   53096363|R1B7M0OP3UNP6O|B00V0G9OGE|     297682929|Armitron Sport Wo...|         Watches|          5|           49|         52|   Y|                N|Lots of features ...|My wife has been ...|2015-08-27 00:00:00|\n",
            "|         US|   27863178|R2N92CUM7WBA1A|B013XHV4GU|     119578945|G-Shock Men's G-S...|         Watches|          5|           27|         28|   N|                Y|Big, but proporti...|This is a great c...|2015-08-27 00:00:00|\n",
            "|         US|   41750372|R2TAFZNG4KHFQB|B00YTY8MQW|     967993443|Timex Men's Weeke...|         Watches|          4|           24|         24|   N|                Y|Quiet Timex Weeke...|I recently picked...|2015-08-27 00:00:00|\n",
            "|         US|    2132145| RNRFACS48ZE4A|B000B55AEK|     525035983|Timex Women's Ind...|         Watches|          5|           21|         21|   N|                Y|I'm a busy colleg...|I'm a busy colleg...|2015-08-27 00:00:00|\n",
            "|         US|    4160429|R2PO5QTLXJ9LHG|B00TU78EXE|     508562164|AUDEMARS PIGUET R...|         Watches|          5|           33|         46|   N|                N|Great watch and i...|Great watch. I bo...|2015-08-27 00:00:00|\n",
            "|         US|   49019268|R38KDT041DRMIN|B00NIF9H3U|     998896201|Omega Men's 31130...|         Watches|          5|           19|         24|   N|                Y|Looks good on the...|Gorgeous watch wi...|2015-08-26 00:00:00|\n",
            "|         US|   10220971|R2MNPDWCA42I4G|B00K92JHX0|     826514849|Fanmis Ceramic Be...|         Watches|          1|           17|         20|   N|                N|Parnis is a scam....|I bought this wat...|2015-08-26 00:00:00|\n",
            "|         US|   15374156|R3F3KMKY26K620|B006ZMHUP0|     899975826|Seiko QXA520KLH W...|         Watches|          4|           25|         26|   N|                Y|          Nice clock|This is a very pr...|2015-08-26 00:00:00|\n",
            "+-----------+-----------+--------------+----------+--------------+--------------------+----------------+-----------+-------------+-----------+----+-----------------+--------------------+--------------------+-------------------+\n",
            "only showing top 20 rows\n",
            "\n"
          ]
        }
      ]
    },
    {
      "cell_type": "code",
      "source": [
        "# Create a new DataFrame that retreives all the rows where a review was written as part of the Vine program (paid)\n",
        "vine_paid_df = helpful_votes_df.filter(helpful_votes_df.vine == \"Y\")\n",
        "vine_paid_df.show(5)"
      ],
      "metadata": {
        "colab": {
          "base_uri": "https://localhost:8080/"
        },
        "id": "sECjv-sPnyJ1",
        "outputId": "c3176c55-2e6b-4cbd-95b4-655b0fc63f73"
      },
      "execution_count": 7,
      "outputs": [
        {
          "output_type": "stream",
          "name": "stdout",
          "text": [
            "+-----------+-----------+--------------+----------+--------------+--------------------+----------------+-----------+-------------+-----------+----+-----------------+--------------------+--------------------+-------------------+\n",
            "|marketplace|customer_id|     review_id|product_id|product_parent|       product_title|product_category|star_rating|helpful_votes|total_votes|vine|verified_purchase|     review_headline|         review_body|        review_date|\n",
            "+-----------+-----------+--------------+----------+--------------+--------------------+----------------+-----------+-------------+-----------+----+-----------------+--------------------+--------------------+-------------------+\n",
            "|         US|   53096363|R1B7M0OP3UNP6O|B00V0G9OGE|     297682929|Armitron Sport Wo...|         Watches|          5|           49|         52|   Y|                N|Lots of features ...|My wife has been ...|2015-08-27 00:00:00|\n",
            "|         US|   51394788|R2UUV4UGGYMQG8|B00M1Y5AIU|     368146384|Boulevard ClickTi...|         Watches|          5|           34|         39|   Y|                N|Another superb up...|I'm shocked that ...|2014-11-10 00:00:00|\n",
            "|         US|   43796190| R9K0LZV2BK9YY|B008AXURAW|     328723789|Fossil FS4735 Gra...|         Watches|          4|           37|         39|   Y|                N|A very handsome w...|There are plenty ...|2014-07-29 00:00:00|\n",
            "|         US|   52460215|R2OVFLNEUEGTJM|B00IOOB1RU|     394792547|Casio Men's STB-1...|         Watches|          3|           18|         25|   Y|                N|   Nice But Overkill|Casio makes good ...|2014-05-22 00:00:00|\n",
            "|         US|   20981134| RBE09ELJ77LQ0|B00ATUKPRE|     250661797|Invicta Men's 143...|         Watches|          5|           44|         45|   Y|                N|A large yet class...|[[VIDEOID:mo31IMO...|2013-06-18 00:00:00|\n",
            "+-----------+-----------+--------------+----------+--------------+--------------------+----------------+-----------+-------------+-----------+----+-----------------+--------------------+--------------------+-------------------+\n",
            "only showing top 5 rows\n",
            "\n"
          ]
        }
      ]
    },
    {
      "cell_type": "code",
      "source": [
        "# Create a new DataFrame that retreives all the rows where a review was written as part of the Vine program (unpaid)\n",
        "vine_unpaid_df = helpful_votes_df.filter(helpful_votes_df.vine == \"N\")\n",
        "vine_unpaid_df.show(5)"
      ],
      "metadata": {
        "colab": {
          "base_uri": "https://localhost:8080/"
        },
        "id": "fO9hP2xcnyMm",
        "outputId": "d3384d2a-dc1f-45b1-85f6-f858a492a64e"
      },
      "execution_count": 8,
      "outputs": [
        {
          "output_type": "stream",
          "name": "stdout",
          "text": [
            "+-----------+-----------+--------------+----------+--------------+--------------------+----------------+-----------+-------------+-----------+----+-----------------+--------------------+--------------------+-------------------+\n",
            "|marketplace|customer_id|     review_id|product_id|product_parent|       product_title|product_category|star_rating|helpful_votes|total_votes|vine|verified_purchase|     review_headline|         review_body|        review_date|\n",
            "+-----------+-----------+--------------+----------+--------------+--------------------+----------------+-----------+-------------+-----------+----+-----------------+--------------------+--------------------+-------------------+\n",
            "|         US|   17728960|R14W2VCHHK5V7W|B00ZI3R5VG|     213303319|Stuhrling Origina...|         Watches|          5|           19|         20|   N|                Y|this is a good al...|As a former Rolex...|2015-08-31 00:00:00|\n",
            "|         US|   20240757|R1S3T57O3OYT5S|B003DZ7VOW|     336197576|G-Shock GA100A-7A...|         Watches|          5|           19|         20|   N|                Y|          Five Stars|         Great watch|2015-08-31 00:00:00|\n",
            "|         US|   15806601|R1BTWIBLYYVOV7|B00I1LM5SK|     878438426|Seiko Men's SSC22...|         Watches|          5|           30|         30|   N|                Y|Extremely Satisfied!|A beautiful timep...|2015-08-31 00:00:00|\n",
            "|         US|   32751852|R3PXNV89DFIXKV|B00OAY5ZPC|     814269665|G-Shock Men's Mil...|         Watches|          5|           35|         37|   N|                Y|Sweet watch perfe...|Sweet watch perfe...|2015-08-30 00:00:00|\n",
            "|         US|   36877359|R2ZF9NYVT3J7D6|B000JQJS6M|     926299553|Invicta Men's 892...|         Watches|          5|           19|         22|   N|                Y|Wow what a great ...|I bought this wat...|2015-08-30 00:00:00|\n",
            "+-----------+-----------+--------------+----------+--------------+--------------------+----------------+-----------+-------------+-----------+----+-----------------+--------------------+--------------------+-------------------+\n",
            "only showing top 5 rows\n",
            "\n"
          ]
        }
      ]
    },
    {
      "cell_type": "code",
      "source": [
        "# Determine the total number of paid reviews \n",
        "total_paid_reviews = vine_paid_df.count()\n",
        "print(total_paid_reviews)"
      ],
      "metadata": {
        "colab": {
          "base_uri": "https://localhost:8080/"
        },
        "id": "BO81nhOQnyPb",
        "outputId": "24db2031-55b9-4804-eef1-a711d8a167d8"
      },
      "execution_count": 9,
      "outputs": [
        {
          "output_type": "stream",
          "name": "stdout",
          "text": [
            "47\n"
          ]
        }
      ]
    },
    {
      "cell_type": "code",
      "source": [
        "# Determine the total number of paid five star reviews \n",
        "five_star_paid_reviews = vine_paid_df.filter(vine_paid_df.star_rating == 5).count()\n",
        "print(five_star_paid_reviews)"
      ],
      "metadata": {
        "colab": {
          "base_uri": "https://localhost:8080/"
        },
        "id": "XN8YkMqhoB5r",
        "outputId": "5b8ef532-08d8-429c-913e-72426638111a"
      },
      "execution_count": 10,
      "outputs": [
        {
          "output_type": "stream",
          "name": "stdout",
          "text": [
            "15\n"
          ]
        }
      ]
    },
    {
      "cell_type": "code",
      "source": [
        "\n",
        "# Percentage of five star reviews for paid reviews\n",
        "percent_five_star_paid_reviews = five_star_paid_reviews / total_paid_reviews * 100\n",
        "print(percent_five_star_paid_reviews)"
      ],
      "metadata": {
        "colab": {
          "base_uri": "https://localhost:8080/"
        },
        "id": "RUNlvc6toCBq",
        "outputId": "e9b5255e-3aa6-494e-d769-81d5322262ec"
      },
      "execution_count": 11,
      "outputs": [
        {
          "output_type": "stream",
          "name": "stdout",
          "text": [
            "31.914893617021278\n"
          ]
        }
      ]
    },
    {
      "cell_type": "code",
      "source": [
        "\n",
        "# Determine the total number of unpaid reviews \n",
        "total_unpaid_reviews = vine_unpaid_df.count()\n",
        "print(total_unpaid_reviews)"
      ],
      "metadata": {
        "colab": {
          "base_uri": "https://localhost:8080/"
        },
        "id": "0oCbqAtBoCGi",
        "outputId": "4002aa6d-47e7-4dc5-a4f2-3e76d9dfab9a"
      },
      "execution_count": 12,
      "outputs": [
        {
          "output_type": "stream",
          "name": "stdout",
          "text": [
            "8362\n"
          ]
        }
      ]
    },
    {
      "cell_type": "code",
      "source": [
        "\n",
        "# Determine the total number of unpaid five star reviews \n",
        "five_star_unpaid_reviews = vine_unpaid_df.filter(vine_unpaid_df.star_rating == 5).count()\n",
        "print(five_star_unpaid_reviews)"
      ],
      "metadata": {
        "colab": {
          "base_uri": "https://localhost:8080/"
        },
        "id": "WANCwSGFoCJ4",
        "outputId": "a2f33724-9d53-4d76-c429-a22f96687f12"
      },
      "execution_count": 13,
      "outputs": [
        {
          "output_type": "stream",
          "name": "stdout",
          "text": [
            "4332\n"
          ]
        }
      ]
    },
    {
      "cell_type": "code",
      "source": [
        "# Percentage of five star reviews for unpaid reviews\n",
        "percent_five_star_unpaid_reviews = five_star_unpaid_reviews / total_unpaid_reviews * 100\n",
        "print(percent_five_star_unpaid_reviews)"
      ],
      "metadata": {
        "colab": {
          "base_uri": "https://localhost:8080/"
        },
        "id": "SpprEXj7oCNj",
        "outputId": "b08c2f25-5a1f-4224-8b2f-363d2a60cfd8"
      },
      "execution_count": 14,
      "outputs": [
        {
          "output_type": "stream",
          "name": "stdout",
          "text": [
            "51.80578808897393\n"
          ]
        }
      ]
    }
  ]
}